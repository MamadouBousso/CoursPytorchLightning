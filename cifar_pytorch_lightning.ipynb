{
  "nbformat": 4,
  "nbformat_minor": 0,
  "metadata": {
    "colab": {
      "name": "cifar_pytorch_lightning.ipynb",
      "provenance": [],
      "authorship_tag": "ABX9TyMPGuQuz3xnDVIUJGD3KRV/",
      "include_colab_link": true
    },
    "kernelspec": {
      "name": "python3",
      "display_name": "Python 3"
    },
    "language_info": {
      "name": "python"
    },
    "accelerator": "GPU"
  },
  "cells": [
    {
      "cell_type": "markdown",
      "metadata": {
        "id": "view-in-github",
        "colab_type": "text"
      },
      "source": [
        "<a href=\"https://colab.research.google.com/github/MamadouBousso/CoursPytorchLightning/blob/main/cifar_pytorch_lightning.ipynb\" target=\"_parent\"><img src=\"https://colab.research.google.com/assets/colab-badge.svg\" alt=\"Open In Colab\"/></a>"
      ]
    },
    {
      "cell_type": "code",
      "metadata": {
        "colab": {
          "base_uri": "https://localhost:8080/"
        },
        "id": "y1mUwEqtPnQv",
        "outputId": "58daaaf6-fe38-4c93-c622-acbb611ae2df"
      },
      "source": [
        "!git clone https://github.com/MamadouBousso/CoursPytorchLightning.git --branch master --single-branch"
      ],
      "execution_count": null,
      "outputs": [
        {
          "output_type": "stream",
          "text": [
            "Cloning into 'CoursPytorchLightning'...\n",
            "remote: Enumerating objects: 81, done.\u001b[K\n",
            "remote: Counting objects: 100% (81/81), done.\u001b[K\n",
            "remote: Compressing objects: 100% (70/70), done.\u001b[K\n",
            "remote: Total 81 (delta 13), reused 73 (delta 5), pack-reused 0\u001b[K\n",
            "Unpacking objects: 100% (81/81), done.\n"
          ],
          "name": "stdout"
        }
      ]
    },
    {
      "cell_type": "code",
      "metadata": {
        "colab": {
          "base_uri": "https://localhost:8080/"
        },
        "id": "mo7Dpvo3PsB8",
        "outputId": "3963bca0-bcef-478a-f182-4e6bcd8ce9c7"
      },
      "source": [
        "!ls"
      ],
      "execution_count": null,
      "outputs": [
        {
          "output_type": "stream",
          "text": [
            "cifar_cnn  cifar.ipynb\ttraining\n"
          ],
          "name": "stdout"
        }
      ]
    },
    {
      "cell_type": "code",
      "metadata": {
        "colab": {
          "base_uri": "https://localhost:8080/"
        },
        "id": "desohmhOPypC",
        "outputId": "b3ec901b-b73e-4551-c569-8ac3a9dd0183"
      },
      "source": [
        "%cd CoursPytorchLightning/"
      ],
      "execution_count": null,
      "outputs": [
        {
          "output_type": "stream",
          "text": [
            "/content/CoursPytorchLightning\n"
          ],
          "name": "stdout"
        }
      ]
    },
    {
      "cell_type": "code",
      "metadata": {
        "colab": {
          "base_uri": "https://localhost:8080/"
        },
        "id": "cYUyfIlfP8xE",
        "outputId": "08373d2a-ca00-40a6-f637-364fde007b0a"
      },
      "source": [
        "!ls"
      ],
      "execution_count": null,
      "outputs": [
        {
          "output_type": "stream",
          "text": [
            "cifar_cnn  cifar.ipynb\ttraining\n"
          ],
          "name": "stdout"
        }
      ]
    },
    {
      "cell_type": "code",
      "metadata": {
        "colab": {
          "base_uri": "https://localhost:8080/"
        },
        "id": "1lQsj3-lQJ1x",
        "outputId": "59b0cc4e-c885-49ad-c845-3d8cfe429e28"
      },
      "source": [
        "!pip install torchtext==0.8.0 torch==1.7.1 pytorch-lightning==1.2.2"
      ],
      "execution_count": null,
      "outputs": [
        {
          "output_type": "stream",
          "text": [
            "Collecting torchtext==0.8.0\n",
            "\u001b[?25l  Downloading https://files.pythonhosted.org/packages/26/8a/e09b9b82d4dd676f17aa681003a7533765346744391966dec0d5dba03ee4/torchtext-0.8.0-cp37-cp37m-manylinux1_x86_64.whl (6.9MB)\n",
            "\u001b[K     |████████████████████████████████| 7.0MB 9.8MB/s \n",
            "\u001b[?25hCollecting torch==1.7.1\n",
            "\u001b[?25l  Downloading https://files.pythonhosted.org/packages/90/5d/095ddddc91c8a769a68c791c019c5793f9c4456a688ddd235d6670924ecb/torch-1.7.1-cp37-cp37m-manylinux1_x86_64.whl (776.8MB)\n",
            "\u001b[K     |████████████████████████████████| 776.8MB 24kB/s \n",
            "\u001b[?25hCollecting pytorch-lightning==1.2.2\n",
            "\u001b[?25l  Downloading https://files.pythonhosted.org/packages/57/d7/52a8cf5ed43c5e0e6a2193d0b2e14f27054513000b4a46b61146c9eabbf5/pytorch_lightning-1.2.2-py3-none-any.whl (816kB)\n",
            "\u001b[K     |████████████████████████████████| 819kB 21.7MB/s \n",
            "\u001b[?25hRequirement already satisfied: requests in /usr/local/lib/python3.7/dist-packages (from torchtext==0.8.0) (2.23.0)\n",
            "Requirement already satisfied: numpy in /usr/local/lib/python3.7/dist-packages (from torchtext==0.8.0) (1.19.5)\n",
            "Requirement already satisfied: tqdm in /usr/local/lib/python3.7/dist-packages (from torchtext==0.8.0) (4.41.1)\n",
            "Requirement already satisfied: typing-extensions in /usr/local/lib/python3.7/dist-packages (from torch==1.7.1) (3.7.4.3)\n",
            "Collecting PyYAML!=5.4.*,>=5.1\n",
            "\u001b[?25l  Downloading https://files.pythonhosted.org/packages/64/c2/b80047c7ac2478f9501676c988a5411ed5572f35d1beff9cae07d321512c/PyYAML-5.3.1.tar.gz (269kB)\n",
            "\u001b[K     |████████████████████████████████| 276kB 40.5MB/s \n",
            "\u001b[?25hCollecting future>=0.17.1\n",
            "\u001b[?25l  Downloading https://files.pythonhosted.org/packages/45/0b/38b06fd9b92dc2b68d58b75f900e97884c45bedd2ff83203d933cf5851c9/future-0.18.2.tar.gz (829kB)\n",
            "\u001b[K     |████████████████████████████████| 829kB 33.5MB/s \n",
            "\u001b[?25hCollecting fsspec[http]>=0.8.1\n",
            "\u001b[?25l  Downloading https://files.pythonhosted.org/packages/e9/91/2ef649137816850fa4f4c97c6f2eabb1a79bf0aa2c8ed198e387e373455e/fsspec-2021.4.0-py3-none-any.whl (108kB)\n",
            "\u001b[K     |████████████████████████████████| 112kB 41.3MB/s \n",
            "\u001b[?25hRequirement already satisfied: tensorboard>=2.2.0 in /usr/local/lib/python3.7/dist-packages (from pytorch-lightning==1.2.2) (2.4.1)\n",
            "Requirement already satisfied: urllib3!=1.25.0,!=1.25.1,<1.26,>=1.21.1 in /usr/local/lib/python3.7/dist-packages (from requests->torchtext==0.8.0) (1.24.3)\n",
            "Requirement already satisfied: idna<3,>=2.5 in /usr/local/lib/python3.7/dist-packages (from requests->torchtext==0.8.0) (2.10)\n",
            "Requirement already satisfied: chardet<4,>=3.0.2 in /usr/local/lib/python3.7/dist-packages (from requests->torchtext==0.8.0) (3.0.4)\n",
            "Requirement already satisfied: certifi>=2017.4.17 in /usr/local/lib/python3.7/dist-packages (from requests->torchtext==0.8.0) (2020.12.5)\n",
            "Collecting aiohttp; extra == \"http\"\n",
            "\u001b[?25l  Downloading https://files.pythonhosted.org/packages/88/c0/5890b4c8b04a79b7360e8fe4490feb0bb3ab179743f199f0e6220cebd568/aiohttp-3.7.4.post0-cp37-cp37m-manylinux2014_x86_64.whl (1.3MB)\n",
            "\u001b[K     |████████████████████████████████| 1.3MB 37.6MB/s \n",
            "\u001b[?25hRequirement already satisfied: markdown>=2.6.8 in /usr/local/lib/python3.7/dist-packages (from tensorboard>=2.2.0->pytorch-lightning==1.2.2) (3.3.4)\n",
            "Requirement already satisfied: grpcio>=1.24.3 in /usr/local/lib/python3.7/dist-packages (from tensorboard>=2.2.0->pytorch-lightning==1.2.2) (1.32.0)\n",
            "Requirement already satisfied: protobuf>=3.6.0 in /usr/local/lib/python3.7/dist-packages (from tensorboard>=2.2.0->pytorch-lightning==1.2.2) (3.12.4)\n",
            "Requirement already satisfied: setuptools>=41.0.0 in /usr/local/lib/python3.7/dist-packages (from tensorboard>=2.2.0->pytorch-lightning==1.2.2) (56.0.0)\n",
            "Requirement already satisfied: tensorboard-plugin-wit>=1.6.0 in /usr/local/lib/python3.7/dist-packages (from tensorboard>=2.2.0->pytorch-lightning==1.2.2) (1.8.0)\n",
            "Requirement already satisfied: google-auth-oauthlib<0.5,>=0.4.1 in /usr/local/lib/python3.7/dist-packages (from tensorboard>=2.2.0->pytorch-lightning==1.2.2) (0.4.4)\n",
            "Requirement already satisfied: werkzeug>=0.11.15 in /usr/local/lib/python3.7/dist-packages (from tensorboard>=2.2.0->pytorch-lightning==1.2.2) (1.0.1)\n",
            "Requirement already satisfied: six>=1.10.0 in /usr/local/lib/python3.7/dist-packages (from tensorboard>=2.2.0->pytorch-lightning==1.2.2) (1.15.0)\n",
            "Requirement already satisfied: wheel>=0.26; python_version >= \"3\" in /usr/local/lib/python3.7/dist-packages (from tensorboard>=2.2.0->pytorch-lightning==1.2.2) (0.36.2)\n",
            "Requirement already satisfied: absl-py>=0.4 in /usr/local/lib/python3.7/dist-packages (from tensorboard>=2.2.0->pytorch-lightning==1.2.2) (0.12.0)\n",
            "Requirement already satisfied: google-auth<2,>=1.6.3 in /usr/local/lib/python3.7/dist-packages (from tensorboard>=2.2.0->pytorch-lightning==1.2.2) (1.28.1)\n",
            "Collecting async-timeout<4.0,>=3.0\n",
            "  Downloading https://files.pythonhosted.org/packages/e1/1e/5a4441be21b0726c4464f3f23c8b19628372f606755a9d2e46c187e65ec4/async_timeout-3.0.1-py3-none-any.whl\n",
            "Collecting yarl<2.0,>=1.0\n",
            "\u001b[?25l  Downloading https://files.pythonhosted.org/packages/f1/62/046834c5fc998c88ab2ef722f5d42122230a632212c8afa76418324f53ff/yarl-1.6.3-cp37-cp37m-manylinux2014_x86_64.whl (294kB)\n",
            "\u001b[K     |████████████████████████████████| 296kB 40.1MB/s \n",
            "\u001b[?25hRequirement already satisfied: attrs>=17.3.0 in /usr/local/lib/python3.7/dist-packages (from aiohttp; extra == \"http\"->fsspec[http]>=0.8.1->pytorch-lightning==1.2.2) (20.3.0)\n",
            "Collecting multidict<7.0,>=4.5\n",
            "\u001b[?25l  Downloading https://files.pythonhosted.org/packages/7c/a6/4123b8165acbe773d1a8dc8e3f0d1edea16d29f7de018eda769abb56bd30/multidict-5.1.0-cp37-cp37m-manylinux2014_x86_64.whl (142kB)\n",
            "\u001b[K     |████████████████████████████████| 143kB 44.6MB/s \n",
            "\u001b[?25hRequirement already satisfied: importlib-metadata; python_version < \"3.8\" in /usr/local/lib/python3.7/dist-packages (from markdown>=2.6.8->tensorboard>=2.2.0->pytorch-lightning==1.2.2) (3.10.1)\n",
            "Requirement already satisfied: requests-oauthlib>=0.7.0 in /usr/local/lib/python3.7/dist-packages (from google-auth-oauthlib<0.5,>=0.4.1->tensorboard>=2.2.0->pytorch-lightning==1.2.2) (1.3.0)\n",
            "Requirement already satisfied: rsa<5,>=3.1.4; python_version >= \"3.6\" in /usr/local/lib/python3.7/dist-packages (from google-auth<2,>=1.6.3->tensorboard>=2.2.0->pytorch-lightning==1.2.2) (4.7.2)\n",
            "Requirement already satisfied: pyasn1-modules>=0.2.1 in /usr/local/lib/python3.7/dist-packages (from google-auth<2,>=1.6.3->tensorboard>=2.2.0->pytorch-lightning==1.2.2) (0.2.8)\n",
            "Requirement already satisfied: cachetools<5.0,>=2.0.0 in /usr/local/lib/python3.7/dist-packages (from google-auth<2,>=1.6.3->tensorboard>=2.2.0->pytorch-lightning==1.2.2) (4.2.1)\n",
            "Requirement already satisfied: zipp>=0.5 in /usr/local/lib/python3.7/dist-packages (from importlib-metadata; python_version < \"3.8\"->markdown>=2.6.8->tensorboard>=2.2.0->pytorch-lightning==1.2.2) (3.4.1)\n",
            "Requirement already satisfied: oauthlib>=3.0.0 in /usr/local/lib/python3.7/dist-packages (from requests-oauthlib>=0.7.0->google-auth-oauthlib<0.5,>=0.4.1->tensorboard>=2.2.0->pytorch-lightning==1.2.2) (3.1.0)\n",
            "Requirement already satisfied: pyasn1>=0.1.3 in /usr/local/lib/python3.7/dist-packages (from rsa<5,>=3.1.4; python_version >= \"3.6\"->google-auth<2,>=1.6.3->tensorboard>=2.2.0->pytorch-lightning==1.2.2) (0.4.8)\n",
            "Building wheels for collected packages: PyYAML, future\n",
            "  Building wheel for PyYAML (setup.py) ... \u001b[?25l\u001b[?25hdone\n",
            "  Created wheel for PyYAML: filename=PyYAML-5.3.1-cp37-cp37m-linux_x86_64.whl size=44620 sha256=b126df30b1c817343b76f029bc48e0812ea938556d0283e26becfb58aec0f6e4\n",
            "  Stored in directory: /root/.cache/pip/wheels/a7/c1/ea/cf5bd31012e735dc1dfea3131a2d5eae7978b251083d6247bd\n",
            "  Building wheel for future (setup.py) ... \u001b[?25l\u001b[?25hdone\n",
            "  Created wheel for future: filename=future-0.18.2-cp37-none-any.whl size=491058 sha256=da562a2c7c377a73acfda986ad66e5fddec8cfe5106aa5712f87daba45d6023c\n",
            "  Stored in directory: /root/.cache/pip/wheels/8b/99/a0/81daf51dcd359a9377b110a8a886b3895921802d2fc1b2397e\n",
            "Successfully built PyYAML future\n",
            "\u001b[31mERROR: torchvision 0.9.1+cu101 has requirement torch==1.8.1, but you'll have torch 1.7.1 which is incompatible.\u001b[0m\n",
            "Installing collected packages: torch, torchtext, PyYAML, future, async-timeout, multidict, yarl, aiohttp, fsspec, pytorch-lightning\n",
            "  Found existing installation: torch 1.8.1+cu101\n",
            "    Uninstalling torch-1.8.1+cu101:\n",
            "      Successfully uninstalled torch-1.8.1+cu101\n",
            "  Found existing installation: torchtext 0.9.1\n",
            "    Uninstalling torchtext-0.9.1:\n",
            "      Successfully uninstalled torchtext-0.9.1\n",
            "  Found existing installation: PyYAML 3.13\n",
            "    Uninstalling PyYAML-3.13:\n",
            "      Successfully uninstalled PyYAML-3.13\n",
            "  Found existing installation: future 0.16.0\n",
            "    Uninstalling future-0.16.0:\n",
            "      Successfully uninstalled future-0.16.0\n",
            "Successfully installed PyYAML-5.3.1 aiohttp-3.7.4.post0 async-timeout-3.0.1 fsspec-2021.4.0 future-0.18.2 multidict-5.1.0 pytorch-lightning-1.2.2 torch-1.7.1 torchtext-0.8.0 yarl-1.6.3\n"
          ],
          "name": "stdout"
        }
      ]
    },
    {
      "cell_type": "code",
      "metadata": {
        "colab": {
          "base_uri": "https://localhost:8080/"
        },
        "id": "6iltLcOpVClv",
        "outputId": "c9742601-2756-45c1-da3d-93e95ebeeff7"
      },
      "source": [
        "!pip uninstall pytorch-lightning\n",
        "!pip install pytorch-lightning==1.1.8"
      ],
      "execution_count": null,
      "outputs": [
        {
          "output_type": "stream",
          "text": [
            "Uninstalling pytorch-lightning-1.2.2:\n",
            "  Would remove:\n",
            "    /usr/local/lib/python3.7/dist-packages/pl_examples/*\n",
            "    /usr/local/lib/python3.7/dist-packages/pytorch_lightning-1.2.2.dist-info/*\n",
            "    /usr/local/lib/python3.7/dist-packages/pytorch_lightning/*\n",
            "    /usr/local/lib/python3.7/dist-packages/tests/accelerators/*\n",
            "    /usr/local/lib/python3.7/dist-packages/tests/base/*\n",
            "    /usr/local/lib/python3.7/dist-packages/tests/callbacks/*\n",
            "    /usr/local/lib/python3.7/dist-packages/tests/checkpointing/*\n",
            "    /usr/local/lib/python3.7/dist-packages/tests/core/*\n",
            "    /usr/local/lib/python3.7/dist-packages/tests/deprecated_api/*\n",
            "    /usr/local/lib/python3.7/dist-packages/tests/helpers/*\n",
            "    /usr/local/lib/python3.7/dist-packages/tests/loggers/*\n",
            "    /usr/local/lib/python3.7/dist-packages/tests/metrics/*\n",
            "    /usr/local/lib/python3.7/dist-packages/tests/models/*\n",
            "    /usr/local/lib/python3.7/dist-packages/tests/overrides/*\n",
            "    /usr/local/lib/python3.7/dist-packages/tests/plugins/*\n",
            "    /usr/local/lib/python3.7/dist-packages/tests/trainer/*\n",
            "    /usr/local/lib/python3.7/dist-packages/tests/tuner/*\n",
            "    /usr/local/lib/python3.7/dist-packages/tests/utilities/*\n",
            "Proceed (y/n)? y\n",
            "  Successfully uninstalled pytorch-lightning-1.2.2\n",
            "Collecting pytorch-lightning==1.1.8\n",
            "\u001b[?25l  Downloading https://files.pythonhosted.org/packages/e7/d4/d2751586c7961f238a6077a6dc6e4a9214445da3219f463aa44b29fe4b42/pytorch_lightning-1.1.8-py3-none-any.whl (696kB)\n",
            "\u001b[K     |████████████████████████████████| 696kB 10.9MB/s \n",
            "\u001b[?25hRequirement already satisfied: fsspec[http]>=0.8.1 in /usr/local/lib/python3.7/dist-packages (from pytorch-lightning==1.1.8) (2021.4.0)\n",
            "Requirement already satisfied: tqdm>=4.41.0 in /usr/local/lib/python3.7/dist-packages (from pytorch-lightning==1.1.8) (4.41.1)\n",
            "Requirement already satisfied: PyYAML!=5.4.*,>=5.1 in /usr/local/lib/python3.7/dist-packages (from pytorch-lightning==1.1.8) (5.3.1)\n",
            "Requirement already satisfied: numpy>=1.16.6 in /usr/local/lib/python3.7/dist-packages (from pytorch-lightning==1.1.8) (1.19.5)\n",
            "Requirement already satisfied: tensorboard>=2.2.0 in /usr/local/lib/python3.7/dist-packages (from pytorch-lightning==1.1.8) (2.4.1)\n",
            "Requirement already satisfied: future>=0.17.1 in /usr/local/lib/python3.7/dist-packages (from pytorch-lightning==1.1.8) (0.18.2)\n",
            "Requirement already satisfied: torch>=1.3 in /usr/local/lib/python3.7/dist-packages (from pytorch-lightning==1.1.8) (1.7.1)\n",
            "Requirement already satisfied: requests; extra == \"http\" in /usr/local/lib/python3.7/dist-packages (from fsspec[http]>=0.8.1->pytorch-lightning==1.1.8) (2.23.0)\n",
            "Requirement already satisfied: aiohttp; extra == \"http\" in /usr/local/lib/python3.7/dist-packages (from fsspec[http]>=0.8.1->pytorch-lightning==1.1.8) (3.7.4.post0)\n",
            "Requirement already satisfied: tensorboard-plugin-wit>=1.6.0 in /usr/local/lib/python3.7/dist-packages (from tensorboard>=2.2.0->pytorch-lightning==1.1.8) (1.8.0)\n",
            "Requirement already satisfied: grpcio>=1.24.3 in /usr/local/lib/python3.7/dist-packages (from tensorboard>=2.2.0->pytorch-lightning==1.1.8) (1.32.0)\n",
            "Requirement already satisfied: google-auth-oauthlib<0.5,>=0.4.1 in /usr/local/lib/python3.7/dist-packages (from tensorboard>=2.2.0->pytorch-lightning==1.1.8) (0.4.4)\n",
            "Requirement already satisfied: markdown>=2.6.8 in /usr/local/lib/python3.7/dist-packages (from tensorboard>=2.2.0->pytorch-lightning==1.1.8) (3.3.4)\n",
            "Requirement already satisfied: google-auth<2,>=1.6.3 in /usr/local/lib/python3.7/dist-packages (from tensorboard>=2.2.0->pytorch-lightning==1.1.8) (1.28.1)\n",
            "Requirement already satisfied: werkzeug>=0.11.15 in /usr/local/lib/python3.7/dist-packages (from tensorboard>=2.2.0->pytorch-lightning==1.1.8) (1.0.1)\n",
            "Requirement already satisfied: wheel>=0.26; python_version >= \"3\" in /usr/local/lib/python3.7/dist-packages (from tensorboard>=2.2.0->pytorch-lightning==1.1.8) (0.36.2)\n",
            "Requirement already satisfied: protobuf>=3.6.0 in /usr/local/lib/python3.7/dist-packages (from tensorboard>=2.2.0->pytorch-lightning==1.1.8) (3.12.4)\n",
            "Requirement already satisfied: six>=1.10.0 in /usr/local/lib/python3.7/dist-packages (from tensorboard>=2.2.0->pytorch-lightning==1.1.8) (1.15.0)\n",
            "Requirement already satisfied: absl-py>=0.4 in /usr/local/lib/python3.7/dist-packages (from tensorboard>=2.2.0->pytorch-lightning==1.1.8) (0.12.0)\n",
            "Requirement already satisfied: setuptools>=41.0.0 in /usr/local/lib/python3.7/dist-packages (from tensorboard>=2.2.0->pytorch-lightning==1.1.8) (56.0.0)\n",
            "Requirement already satisfied: typing-extensions in /usr/local/lib/python3.7/dist-packages (from torch>=1.3->pytorch-lightning==1.1.8) (3.7.4.3)\n",
            "Requirement already satisfied: idna<3,>=2.5 in /usr/local/lib/python3.7/dist-packages (from requests; extra == \"http\"->fsspec[http]>=0.8.1->pytorch-lightning==1.1.8) (2.10)\n",
            "Requirement already satisfied: certifi>=2017.4.17 in /usr/local/lib/python3.7/dist-packages (from requests; extra == \"http\"->fsspec[http]>=0.8.1->pytorch-lightning==1.1.8) (2020.12.5)\n",
            "Requirement already satisfied: chardet<4,>=3.0.2 in /usr/local/lib/python3.7/dist-packages (from requests; extra == \"http\"->fsspec[http]>=0.8.1->pytorch-lightning==1.1.8) (3.0.4)\n",
            "Requirement already satisfied: urllib3!=1.25.0,!=1.25.1,<1.26,>=1.21.1 in /usr/local/lib/python3.7/dist-packages (from requests; extra == \"http\"->fsspec[http]>=0.8.1->pytorch-lightning==1.1.8) (1.24.3)\n",
            "Requirement already satisfied: async-timeout<4.0,>=3.0 in /usr/local/lib/python3.7/dist-packages (from aiohttp; extra == \"http\"->fsspec[http]>=0.8.1->pytorch-lightning==1.1.8) (3.0.1)\n",
            "Requirement already satisfied: multidict<7.0,>=4.5 in /usr/local/lib/python3.7/dist-packages (from aiohttp; extra == \"http\"->fsspec[http]>=0.8.1->pytorch-lightning==1.1.8) (5.1.0)\n",
            "Requirement already satisfied: yarl<2.0,>=1.0 in /usr/local/lib/python3.7/dist-packages (from aiohttp; extra == \"http\"->fsspec[http]>=0.8.1->pytorch-lightning==1.1.8) (1.6.3)\n",
            "Requirement already satisfied: attrs>=17.3.0 in /usr/local/lib/python3.7/dist-packages (from aiohttp; extra == \"http\"->fsspec[http]>=0.8.1->pytorch-lightning==1.1.8) (20.3.0)\n",
            "Requirement already satisfied: requests-oauthlib>=0.7.0 in /usr/local/lib/python3.7/dist-packages (from google-auth-oauthlib<0.5,>=0.4.1->tensorboard>=2.2.0->pytorch-lightning==1.1.8) (1.3.0)\n",
            "Requirement already satisfied: importlib-metadata; python_version < \"3.8\" in /usr/local/lib/python3.7/dist-packages (from markdown>=2.6.8->tensorboard>=2.2.0->pytorch-lightning==1.1.8) (3.10.1)\n",
            "Requirement already satisfied: rsa<5,>=3.1.4; python_version >= \"3.6\" in /usr/local/lib/python3.7/dist-packages (from google-auth<2,>=1.6.3->tensorboard>=2.2.0->pytorch-lightning==1.1.8) (4.7.2)\n",
            "Requirement already satisfied: cachetools<5.0,>=2.0.0 in /usr/local/lib/python3.7/dist-packages (from google-auth<2,>=1.6.3->tensorboard>=2.2.0->pytorch-lightning==1.1.8) (4.2.1)\n",
            "Requirement already satisfied: pyasn1-modules>=0.2.1 in /usr/local/lib/python3.7/dist-packages (from google-auth<2,>=1.6.3->tensorboard>=2.2.0->pytorch-lightning==1.1.8) (0.2.8)\n",
            "Requirement already satisfied: oauthlib>=3.0.0 in /usr/local/lib/python3.7/dist-packages (from requests-oauthlib>=0.7.0->google-auth-oauthlib<0.5,>=0.4.1->tensorboard>=2.2.0->pytorch-lightning==1.1.8) (3.1.0)\n",
            "Requirement already satisfied: zipp>=0.5 in /usr/local/lib/python3.7/dist-packages (from importlib-metadata; python_version < \"3.8\"->markdown>=2.6.8->tensorboard>=2.2.0->pytorch-lightning==1.1.8) (3.4.1)\n",
            "Requirement already satisfied: pyasn1>=0.1.3 in /usr/local/lib/python3.7/dist-packages (from rsa<5,>=3.1.4; python_version >= \"3.6\"->google-auth<2,>=1.6.3->tensorboard>=2.2.0->pytorch-lightning==1.1.8) (0.4.8)\n",
            "Installing collected packages: pytorch-lightning\n",
            "Successfully installed pytorch-lightning-1.1.8\n"
          ],
          "name": "stdout"
        }
      ]
    },
    {
      "cell_type": "code",
      "metadata": {
        "colab": {
          "base_uri": "https://localhost:8080/"
        },
        "id": "PMKpY9UqQ26_",
        "outputId": "f433ef14-0731-4fc9-85ce-136e2aa0b2f1"
      },
      "source": [
        "%env PYTHONPATH=.:$PYTHONPATH"
      ],
      "execution_count": null,
      "outputs": [
        {
          "output_type": "stream",
          "text": [
            "env: PYTHONPATH=.:$PYTHONPATH\n"
          ],
          "name": "stdout"
        }
      ]
    },
    {
      "cell_type": "code",
      "metadata": {
        "colab": {
          "base_uri": "https://localhost:8080/"
        },
        "id": "OXlMbg-cQ4Ro",
        "outputId": "16beff4b-272c-4516-a3e0-5d21442c24d5"
      },
      "source": [
        "!python training/run.py --max_epochs=10 --gpu='0,' --num_workers=20"
      ],
      "execution_count": null,
      "outputs": [
        {
          "output_type": "stream",
          "text": [
            "/usr/local/lib/python3.7/dist-packages/pytorch_lightning/utilities/distributed.py:50: UserWarning: Checkpoint directory training/savemodels/ exists and is not empty.\n",
            "  warnings.warn(*args, **kwargs)\n",
            "/usr/local/lib/python3.7/dist-packages/pytorch_lightning/utilities/distributed.py:50: UserWarning: You have set progress_bar_refresh_rate < 20 on Google Colab. This may crash. Consider using progress_bar_refresh_rate >= 20 in Trainer.\n",
            "  warnings.warn(*args, **kwargs)\n",
            "GPU available: True, used: True\n",
            "TPU available: None, using: 0 TPU cores\n",
            "LOCAL_RANK: 0 - CUDA_VISIBLE_DEVICES: [0]\n",
            "Files already downloaded and verified\n",
            "Files already downloaded and verified\n",
            "2021-04-27 12:36:25.907192: I tensorflow/stream_executor/platform/default/dso_loader.cc:49] Successfully opened dynamic library libcudart.so.11.0\n",
            "\n",
            "   | Name        | Type      | Params\n",
            "-------------------------------------------\n",
            "0  | model       | Net       | 663 K \n",
            "1  | model.conv1 | Conv2d    | 448   \n",
            "2  | model.conv2 | Conv2d    | 4.6 K \n",
            "3  | model.conv3 | Conv2d    | 18.5 K\n",
            "4  | model.fc1   | Linear    | 512 K \n",
            "5  | model.fc2   | Linear    | 125 K \n",
            "6  | model.fc3   | Linear    | 2.5 K \n",
            "7  | model.drop  | Dropout   | 0     \n",
            "8  | model.pool  | MaxPool2d | 0     \n",
            "9  | train_acc   | Accuracy  | 0     \n",
            "10 | val_acc     | Accuracy  | 0     \n",
            "11 | test_acc    | Accuracy  | 0     \n",
            "-------------------------------------------\n",
            "663 K     Trainable params\n",
            "0         Non-trainable params\n",
            "663 K     Total params\n",
            "Validation sanity check:   0% 0/2 [00:00<?, ?it/s]2021-04-27 12:36:28.334359: I tensorflow/stream_executor/platform/default/dso_loader.cc:49] Successfully opened dynamic library libcuda.so.1\n",
            "Epoch 0:  90% 352/392 [00:22<00:02, 15.67it/s, loss=1.47, v_num=8, val_loss=2.3, val_acc=0.0586]\n",
            "Validating: 0it [00:00, ?it/s]\u001b[A\n",
            "Validating:   0% 0/40 [00:00<?, ?it/s]\u001b[A\n",
            "Validating:   2% 1/40 [00:01<00:51,  1.32s/it]\u001b[A\n",
            "Epoch 0:  91% 356/392 [00:23<00:02, 14.86it/s, loss=1.47, v_num=8, val_loss=2.3, val_acc=0.0586]\n",
            "Validating:  12% 5/40 [00:01<00:23,  1.47it/s]\u001b[A\n",
            "Validating:  18% 7/40 [00:01<00:16,  2.00it/s]\u001b[A\n",
            "Epoch 0:  93% 363/392 [00:24<00:01, 14.84it/s, loss=1.47, v_num=8, val_loss=2.3, val_acc=0.0586]\n",
            "Validating:  28% 11/40 [00:02<00:08,  3.56it/s]\u001b[A\n",
            "Validating:  32% 13/40 [00:02<00:05,  4.62it/s]\u001b[A\n",
            "Epoch 0:  94% 370/392 [00:24<00:01, 14.87it/s, loss=1.47, v_num=8, val_loss=2.3, val_acc=0.0586]\n",
            "Validating:  45% 18/40 [00:02<00:02,  7.43it/s]\u001b[A\n",
            "Epoch 0:  96% 377/392 [00:25<00:01, 14.99it/s, loss=1.47, v_num=8, val_loss=2.3, val_acc=0.0586]\n",
            "Epoch 0: 100% 392/392 [00:25<00:00, 15.35it/s, loss=1.47, v_num=8, val_loss=1.4, val_acc=0.483] \n",
            "Epoch 1:  90% 352/392 [00:22<00:02, 15.49it/s, loss=1.29, v_num=8, val_loss=1.4, val_acc=0.483]\n",
            "Validating: 0it [00:00, ?it/s]\u001b[A\n",
            "Validating:   0% 0/40 [00:00<?, ?it/s]\u001b[A\n",
            "Validating:   2% 1/40 [00:01<00:43,  1.11s/it]\u001b[A\n",
            "Validating:   5% 2/40 [00:01<00:33,  1.14it/s]\u001b[A\n",
            "Validating:   8% 3/40 [00:01<00:25,  1.47it/s]\u001b[A\n",
            "Validating:  12% 5/40 [00:01<00:17,  2.02it/s]\u001b[A\n",
            "Epoch 1:  92% 359/392 [00:24<00:02, 14.54it/s, loss=1.29, v_num=8, val_loss=1.4, val_acc=0.483]\n",
            "Validating:  20% 8/40 [00:02<00:09,  3.52it/s]\u001b[A\n",
            "Validating:  25% 10/40 [00:02<00:06,  4.61it/s]\u001b[A\n",
            "Epoch 1:  94% 367/392 [00:25<00:01, 14.60it/s, loss=1.29, v_num=8, val_loss=1.4, val_acc=0.483]\n",
            "Validating:  38% 15/40 [00:02<00:03,  7.40it/s]\u001b[A\n",
            "Validating:  42% 17/40 [00:02<00:02,  9.08it/s]\u001b[A\n",
            "Epoch 1:  96% 375/392 [00:25<00:01, 14.70it/s, loss=1.29, v_num=8, val_loss=1.4, val_acc=0.483]\n",
            "Epoch 1: 100% 392/392 [00:25<00:00, 15.15it/s, loss=1.29, v_num=8, val_loss=1.24, val_acc=0.546]\n",
            "Epoch 2:  90% 352/392 [00:22<00:02, 15.50it/s, loss=1.18, v_num=8, val_loss=1.24, val_acc=0.546]\n",
            "Validating: 0it [00:00, ?it/s]\u001b[A\n",
            "Validating:   0% 0/40 [00:00<?, ?it/s]\u001b[A\n",
            "Validating:   2% 1/40 [00:01<00:42,  1.10s/it]\u001b[A\n",
            "Validating:   8% 3/40 [00:01<00:31,  1.19it/s]\u001b[A\n",
            "Validating:  12% 5/40 [00:01<00:21,  1.64it/s]\u001b[A\n",
            "Epoch 2:  92% 360/392 [00:24<00:02, 14.60it/s, loss=1.18, v_num=8, val_loss=1.24, val_acc=0.546]\n",
            "Validating:  22% 9/40 [00:02<00:10,  2.96it/s]\u001b[A\n",
            "Validating:  28% 11/40 [00:02<00:07,  3.93it/s]\u001b[A\n",
            "Epoch 2:  94% 368/392 [00:25<00:01, 14.66it/s, loss=1.18, v_num=8, val_loss=1.24, val_acc=0.546]\n",
            "Validating:  42% 17/40 [00:02<00:03,  6.64it/s]\u001b[A\n",
            "Epoch 2:  96% 376/392 [00:25<00:01, 14.79it/s, loss=1.18, v_num=8, val_loss=1.24, val_acc=0.546]\n",
            "Epoch 2: 100% 392/392 [00:25<00:00, 15.19it/s, loss=1.18, v_num=8, val_loss=1.13, val_acc=0.579]\n",
            "Epoch 3:  90% 352/392 [00:22<00:02, 15.48it/s, loss=1.1, v_num=8, val_loss=1.13, val_acc=0.579]\n",
            "Validating: 0it [00:00, ?it/s]\u001b[A\n",
            "Validating:   0% 0/40 [00:00<?, ?it/s]\u001b[A\n",
            "Validating:   2% 1/40 [00:01<00:59,  1.53s/it]\u001b[A\n",
            "Validating:   8% 3/40 [00:01<00:40,  1.10s/it]\u001b[A\n",
            "Validating:  12% 5/40 [00:01<00:27,  1.26it/s]\u001b[A\n",
            "Validating:  18% 7/40 [00:01<00:18,  1.74it/s]\u001b[A\n",
            "Validating:  22% 9/40 [00:02<00:13,  2.36it/s]\u001b[A\n",
            "Validating:  28% 11/40 [00:02<00:09,  3.21it/s]\u001b[A\n",
            "Epoch 3:  94% 368/392 [00:25<00:01, 14.59it/s, loss=1.1, v_num=8, val_loss=1.13, val_acc=0.579]\n",
            "Validating:  40% 16/40 [00:02<00:04,  5.52it/s]\u001b[A\n",
            "Validating:  45% 18/40 [00:02<00:03,  6.96it/s]\u001b[A\n",
            "Epoch 3:  98% 384/392 [00:25<00:00, 15.00it/s, loss=1.1, v_num=8, val_loss=1.13, val_acc=0.579]\n",
            "Epoch 3: 100% 392/392 [00:25<00:00, 15.12it/s, loss=1.1, v_num=8, val_loss=1.05, val_acc=0.611]\n",
            "Epoch 4:  90% 352/392 [00:22<00:02, 15.37it/s, loss=1.03, v_num=8, val_loss=1.05, val_acc=0.611]\n",
            "Validating: 0it [00:00, ?it/s]\u001b[A\n",
            "Validating:   0% 0/40 [00:00<?, ?it/s]\u001b[A\n",
            "Validating:   2% 1/40 [00:01<00:53,  1.36s/it]\u001b[A\n",
            "Validating:   8% 3/40 [00:01<00:36,  1.02it/s]\u001b[A\n",
            "Validating:  10% 4/40 [00:01<00:25,  1.40it/s]\u001b[A\n",
            "Validating:  15% 6/40 [00:01<00:17,  1.91it/s]\u001b[A\n",
            "Validating:  20% 8/40 [00:01<00:12,  2.56it/s]\u001b[A\n",
            "Validating:  25% 10/40 [00:02<00:08,  3.41it/s]\u001b[A\n",
            "Validating:  30% 12/40 [00:02<00:06,  4.45it/s]\u001b[A\n",
            "Epoch 4:  94% 368/392 [00:25<00:01, 14.54it/s, loss=1.03, v_num=8, val_loss=1.05, val_acc=0.611]\n",
            "Validating:  40% 16/40 [00:02<00:03,  7.21it/s]\u001b[A\n",
            "Validating:  45% 18/40 [00:02<00:02,  8.82it/s]\u001b[A\n",
            "Epoch 4:  98% 384/392 [00:25<00:00, 14.96it/s, loss=1.03, v_num=8, val_loss=1.05, val_acc=0.611]\n",
            "Epoch 4: 100% 392/392 [00:25<00:00, 15.08it/s, loss=1.03, v_num=8, val_loss=0.993, val_acc=0.637]\n",
            "Epoch 5:  90% 352/392 [00:24<00:02, 14.18it/s, loss=0.979, v_num=8, val_loss=0.993, val_acc=0.637]\n",
            "Validating: 0it [00:00, ?it/s]\u001b[A\n",
            "Validating:   0% 0/40 [00:00<?, ?it/s]\u001b[A\n",
            "Validating:   2% 1/40 [00:01<00:59,  1.53s/it]\u001b[A\n",
            "Validating:   8% 3/40 [00:01<00:40,  1.09s/it]\u001b[A\n",
            "Validating:  12% 5/40 [00:01<00:27,  1.26it/s]\u001b[A\n",
            "Validating:  18% 7/40 [00:01<00:18,  1.74it/s]\u001b[A\n",
            "Validating:  22% 9/40 [00:02<00:13,  2.38it/s]\u001b[A\n",
            "Validating:  30% 12/40 [00:02<00:08,  3.23it/s]\u001b[A\n",
            "Epoch 5:  94% 368/392 [00:27<00:01, 13.47it/s, loss=0.979, v_num=8, val_loss=0.993, val_acc=0.637]\n",
            "Validating:  40% 16/40 [00:02<00:04,  5.55it/s]\u001b[A\n",
            "Validating:  48% 19/40 [00:02<00:02,  7.19it/s]\u001b[A\n",
            "Epoch 5: 100% 392/392 [00:27<00:00, 14.01it/s, loss=0.979, v_num=8, val_loss=0.948, val_acc=0.652]\n",
            "Epoch 6:  90% 352/392 [00:23<00:02, 15.14it/s, loss=0.951, v_num=8, val_loss=0.948, val_acc=0.652]\n",
            "Validating: 0it [00:00, ?it/s]\u001b[A\n",
            "Validating:   0% 0/40 [00:00<?, ?it/s]\u001b[A\n",
            "Validating:   2% 1/40 [00:01<00:57,  1.47s/it]\u001b[A\n",
            "Validating:   8% 3/40 [00:01<00:38,  1.05s/it]\u001b[A\n",
            "Validating:  12% 5/40 [00:01<00:26,  1.32it/s]\u001b[A\n",
            "Validating:  18% 7/40 [00:01<00:18,  1.79it/s]\u001b[A\n",
            "Validating:  22% 9/40 [00:02<00:12,  2.43it/s]\u001b[A\n",
            "Validating:  28% 11/40 [00:02<00:08,  3.25it/s]\u001b[A\n",
            "Epoch 6:  94% 368/392 [00:25<00:01, 14.28it/s, loss=0.951, v_num=8, val_loss=0.948, val_acc=0.652]\n",
            "Validating:  40% 16/40 [00:02<00:04,  5.56it/s]\u001b[A\n",
            "Validating:  45% 18/40 [00:02<00:03,  6.90it/s]\u001b[A\n",
            "Validating:  50% 20/40 [00:02<00:02,  8.41it/s]\u001b[A\n",
            "Epoch 6: 100% 392/392 [00:26<00:00, 14.79it/s, loss=0.951, v_num=8, val_loss=0.909, val_acc=0.672]\n",
            "Epoch 7:  90% 352/392 [00:23<00:02, 15.15it/s, loss=0.928, v_num=8, val_loss=0.909, val_acc=0.672]\n",
            "Validating: 0it [00:00, ?it/s]\u001b[A\n",
            "Validating:   0% 0/40 [00:00<?, ?it/s]\u001b[A\n",
            "Validating:   2% 1/40 [00:01<00:56,  1.45s/it]\u001b[A\n",
            "Validating:   8% 3/40 [00:01<00:38,  1.04s/it]\u001b[A\n",
            "Validating:  12% 5/40 [00:01<00:26,  1.33it/s]\u001b[A\n",
            "Validating:  18% 7/40 [00:01<00:18,  1.82it/s]\u001b[A\n",
            "Validating:  22% 9/40 [00:02<00:12,  2.46it/s]\u001b[A\n",
            "Validating:  28% 11/40 [00:02<00:08,  3.31it/s]\u001b[A\n",
            "Epoch 7:  94% 368/392 [00:25<00:01, 14.34it/s, loss=0.928, v_num=8, val_loss=0.909, val_acc=0.672]\n",
            "Validating:  40% 16/40 [00:02<00:04,  5.64it/s]\u001b[A\n",
            "Validating:  45% 18/40 [00:02<00:03,  7.17it/s]\u001b[A\n",
            "Validating:  52% 21/40 [00:02<00:02,  9.20it/s]\u001b[A\n",
            "Epoch 7:  98% 384/392 [00:26<00:00, 14.69it/s, loss=0.928, v_num=8, val_loss=0.909, val_acc=0.672]\n",
            "Epoch 7: 100% 392/392 [00:26<00:00, 14.81it/s, loss=0.928, v_num=8, val_loss=0.882, val_acc=0.682]\n",
            "Epoch 8:  90% 352/392 [00:23<00:02, 14.99it/s, loss=0.889, v_num=8, val_loss=0.882, val_acc=0.682]\n",
            "Validating: 0it [00:00, ?it/s]\u001b[A\n",
            "Validating:   0% 0/40 [00:00<?, ?it/s]\u001b[A\n",
            "Validating:   2% 1/40 [00:01<00:53,  1.37s/it]\u001b[A\n",
            "Validating:   8% 3/40 [00:01<00:36,  1.02it/s]\u001b[A\n",
            "Validating:  10% 4/40 [00:01<00:26,  1.36it/s]\u001b[A\n",
            "Validating:  15% 6/40 [00:01<00:18,  1.86it/s]\u001b[A\n",
            "Validating:  20% 8/40 [00:02<00:12,  2.48it/s]\u001b[A\n",
            "Validating:  25% 10/40 [00:02<00:09,  3.30it/s]\u001b[A\n",
            "Validating:  30% 12/40 [00:02<00:06,  4.28it/s]\u001b[A\n",
            "Epoch 8:  94% 368/392 [00:25<00:01, 14.16it/s, loss=0.889, v_num=8, val_loss=0.882, val_acc=0.682]\n",
            "Validating:  40% 16/40 [00:02<00:03,  6.95it/s]\u001b[A\n",
            "Validating:  48% 19/40 [00:02<00:02,  8.73it/s]\u001b[A\n",
            "Epoch 8:  98% 384/392 [00:26<00:00, 14.55it/s, loss=0.889, v_num=8, val_loss=0.882, val_acc=0.682]\n",
            "Epoch 8: 100% 392/392 [00:26<00:00, 14.67it/s, loss=0.889, v_num=8, val_loss=0.86, val_acc=0.687] \n",
            "Epoch 9:  90% 352/392 [00:23<00:02, 15.07it/s, loss=0.841, v_num=8, val_loss=0.86, val_acc=0.687]\n",
            "Validating: 0it [00:00, ?it/s]\u001b[A\n",
            "Validating:   0% 0/40 [00:00<?, ?it/s]\u001b[A\n",
            "Validating:   2% 1/40 [00:00<00:37,  1.04it/s]\u001b[A\n",
            "Validating:   5% 2/40 [00:01<00:31,  1.21it/s]\u001b[A\n",
            "Validating:  10% 4/40 [00:01<00:21,  1.67it/s]\u001b[A\n",
            "Validating:  15% 6/40 [00:01<00:15,  2.26it/s]\u001b[A\n",
            "Validating:  20% 8/40 [00:01<00:10,  3.01it/s]\u001b[A\n",
            "Validating:  25% 10/40 [00:02<00:07,  3.98it/s]\u001b[A\n",
            "Validating:  30% 12/40 [00:02<00:05,  5.23it/s]\u001b[A\n",
            "Epoch 9:  94% 368/392 [00:25<00:01, 14.29it/s, loss=0.841, v_num=8, val_loss=0.86, val_acc=0.687]\n",
            "Validating:  40% 16/40 [00:02<00:02,  8.11it/s]\u001b[A\n",
            "Validating:  45% 18/40 [00:02<00:02,  9.47it/s]\u001b[A\n",
            "Epoch 9:  98% 384/392 [00:26<00:00, 14.69it/s, loss=0.841, v_num=8, val_loss=0.86, val_acc=0.687]\n",
            "Epoch 9: 100% 392/392 [00:26<00:00, 14.81it/s, loss=0.841, v_num=8, val_loss=0.842, val_acc=0.699]\n",
            "Epoch 9: 100% 392/392 [00:26<00:00, 14.80it/s, loss=0.841, v_num=8, val_loss=0.842, val_acc=0.699]\n",
            "Testing: 100% 79/79 [00:05<00:00, 14.80it/s]\n",
            "--------------------------------------------------------------------------------\n",
            "DATALOADER:0 TEST RESULTS\n",
            "{'test_acc': 0.7013999819755554}\n",
            "--------------------------------------------------------------------------------\n"
          ],
          "name": "stdout"
        }
      ]
    }
  ]
}